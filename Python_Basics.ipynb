{
  "nbformat": 4,
  "nbformat_minor": 0,
  "metadata": {
    "colab": {
      "provenance": []
    },
    "kernelspec": {
      "name": "python3",
      "display_name": "Python 3"
    },
    "language_info": {
      "name": "python"
    }
  },
  "cells": [
    {
      "cell_type": "code",
      "execution_count": null,
      "metadata": {
        "id": "4vZK08a2R0Jj"
      },
      "outputs": [],
      "source": []
    },
    {
      "cell_type": "markdown",
      "source": [
        "# Python Basics\n"
      ],
      "metadata": {
        "id": "RAeDelWuScw1"
      }
    },
    {
      "cell_type": "markdown",
      "source": [
        "1. What is Python, and why is it popular?  \n",
        "  - Python is a programming language that is easy to understand and write, making it a popular choice among developers and programmers.\n",
        "It is compatible with various programming paradigms, such as procedural, object-oriented, and functional programming.\n",
        "Python has a large and active community of developers, an extensive standard library, and third-party packages for various domains.\n",
        "\n",
        "2. What is an interpreter in Python?\n",
        "  - A Python interpreter is a program that executes Python code, translating it into machine-understandable instructions line by line.\n",
        "\n",
        "3. What are pre-defined keywords in Python?\n",
        "  - Keywords are reserved words in Python that have special meanings and cannot be used as identifiers (variable names, function names, etc.)\n",
        "\n",
        "4. Can keywords be used as variable names?\n",
        "  - No, keywords cannot be used as variable names in Python.\n",
        "\n",
        "5. What is mutability in Python?\n",
        "  - In Python, mutability refers to whether an object's state or content can be changed after it has been created.\n",
        "  \n",
        "6. Why are lists mutable, but tuples are immutable?\n",
        "  - Tuples use parentheses instead of square brackets, and the items in tuples cannot be modified, but the items in lists can be modified.\n",
        "\n",
        "7. What is the difference between “==” and “is” operators in Python\n",
        "  - The '==' is referred to as the equality operator. The 'is' is termed as the identity operator. The == operator is used to compare the equality of objects. The is operator is used to check if different variables are pointing to the same object in memory.\n",
        "\n",
        "8. What are logical operators in Python?\n",
        "  - Logical operators in Python are used to combine or modify conditional statements, returning a Boolean value (True or False) based on the evaluation of their operands.\n",
        "\n",
        "9. What is type casting in Python?\n",
        "  - Where we can convert one type of variable to another type.\n",
        "\n",
        "10. What is the difference between implicit and explicit type casting?\n",
        "  - Implicit casting, also called automatic type conversion, while\n",
        "  Explicit casting, or type casting, is performed manually by the programmer by explicitly specifying the desired data type.\n",
        "\n",
        "11.  What is the purpose of conditional statements in Python?\n",
        "  - The purpose of conditional statements in Python is to enable programs to make decisions and execute different blocks of code based on whether certain conditions are true or false.\n",
        "\n",
        "12. How does the elif statement work?\n",
        "  - Elif statement used to check multiple conditions sequentially in a conditional block.\n",
        "\n",
        "13. What is the difference between for and while loops?\n",
        "  - For loop is used to iterate over a sequence of items. While loop is used to repeatedly execute a block of statements while a condition is true.\n",
        "\n",
        "14.  Describe a scenario where a while loop is more suitable than a for loop.\n",
        "  - In programming, for loops are best used when you know the number of iterations ahead of time, whereas a while loop is best used when you don't know the number of iterations in advance. Both methods can help you iterate through your code.\n"
      ],
      "metadata": {
        "id": "Wj1xjGzgS_jG"
      }
    },
    {
      "cell_type": "code",
      "source": [
        "# 1. Write a Python program to print \"Hello, World!\n",
        "\n",
        "print(\"Hello, World!\")"
      ],
      "metadata": {
        "colab": {
          "base_uri": "https://localhost:8080/"
        },
        "id": "aaFT7RIVS9kd",
        "outputId": "617a4fde-6a33-4220-c737-7b6d245e7994"
      },
      "execution_count": null,
      "outputs": [
        {
          "output_type": "stream",
          "name": "stdout",
          "text": [
            "Hello, World!\n"
          ]
        }
      ]
    },
    {
      "cell_type": "code",
      "source": [
        "# 2. Write a Python program that displays your name and age.\n",
        "\n",
        "name = \"Bidisha\"\n",
        "age = 26\n",
        "\n",
        "print(name)\n",
        "print(age)"
      ],
      "metadata": {
        "colab": {
          "base_uri": "https://localhost:8080/"
        },
        "id": "8JXJYXxU7R39",
        "outputId": "612a50f1-b670-4a58-dfa6-232b0438b6ba"
      },
      "execution_count": null,
      "outputs": [
        {
          "output_type": "stream",
          "name": "stdout",
          "text": [
            "Bidisha\n",
            "26\n"
          ]
        }
      ]
    },
    {
      "cell_type": "code",
      "source": [
        "# 3. Write code to print all the pre-defined keywords in Python using the keyword library.\n",
        "\n",
        "help(\"keywords\")"
      ],
      "metadata": {
        "colab": {
          "base_uri": "https://localhost:8080/"
        },
        "id": "o4SKkWmv9FoJ",
        "outputId": "adb96c34-cf41-4c41-8258-f43eef900a61"
      },
      "execution_count": null,
      "outputs": [
        {
          "output_type": "stream",
          "name": "stdout",
          "text": [
            "\n",
            "Here is a list of the Python keywords.  Enter any keyword to get more help.\n",
            "\n",
            "False               class               from                or\n",
            "None                continue            global              pass\n",
            "True                def                 if                  raise\n",
            "and                 del                 import              return\n",
            "as                  elif                in                  try\n",
            "assert              else                is                  while\n",
            "async               except              lambda              with\n",
            "await               finally             nonlocal            yield\n",
            "break               for                 not                 \n",
            "\n"
          ]
        }
      ]
    },
    {
      "cell_type": "code",
      "source": [
        "#4. Write a program that checks if a given word is a Python keyword.\n"
      ],
      "metadata": {
        "id": "_OyK8-hr94-A"
      },
      "execution_count": null,
      "outputs": []
    },
    {
      "cell_type": "code",
      "source": [
        "#5. Create a list and tuple in Python, and demonstrate how attempting to change an element works differently for each other.\n",
        "\n",
        "# Create a list\n",
        "my_list = [10, 20, 30, 40]\n",
        "print(f\"Original list: {my_list}\")\n",
        "\n",
        "# Attempting to change an element in a list\n",
        "my_list[1] = 25\n",
        "print(f\"List after changing an element: {my_list}\")\n",
        "\n",
        "# Create a tuple\n",
        "my_tuple = (10, 20, 30, 40)\n",
        "print(f\"Original tuple: {my_tuple}\")\n",
        "\n",
        "# Attempting to change an element in a tuple\n",
        "try:\n",
        "    my_tuple[1] = 25\n",
        "except TypeError as e:\n",
        "    print(f\"Error when attempting to change an element in a tuple: {e}\")"
      ],
      "metadata": {
        "colab": {
          "base_uri": "https://localhost:8080/"
        },
        "id": "dYcVv6xUUMLI",
        "outputId": "33cc61d2-c0b4-4a22-877b-0d97cf2b4868"
      },
      "execution_count": null,
      "outputs": [
        {
          "output_type": "stream",
          "name": "stdout",
          "text": [
            "Original list: [10, 20, 30, 40]\n",
            "List after changing an element: [10, 25, 30, 40]\n",
            "Original tuple: (10, 20, 30, 40)\n",
            "Error when attempting to change an element in a tuple: 'tuple' object does not support item assignment\n"
          ]
        }
      ]
    },
    {
      "cell_type": "code",
      "source": [
        "#6. Write a function to demonstrate the behavior of mutable and immutable arguments?\n",
        "\n",
        "# List\n",
        "my_list = [1, 2, 3]\n",
        "my_list[0] = 'a'  # The list now becomes ['a', 2, 3]\n",
        "\n",
        "# Dictionary\n",
        "my_dict = {'name': 'John', 'age': 30}\n",
        "my_dict['age'] = 31\n",
        "# The dictionary now becomes {'name': 'John', 'age': 31}\n",
        "\n",
        "# Set\n",
        "my_set = {1, 2, 3}\n",
        "my_set.add(4)  # The set now becomes {1, 2, 3, 4}"
      ],
      "metadata": {
        "id": "67ZL8IKnbkMB"
      },
      "execution_count": null,
      "outputs": []
    },
    {
      "cell_type": "code",
      "source": [
        "#7. Write a program that performs basic arithmetic operations on two user-input numbers.\n",
        "\n",
        "num1=8\n",
        "num2=3\n",
        "\n",
        "print(\"results:-\")\n",
        "print(\"addition: \",num1+num2)\n",
        "print(\"subtraction: \",num1-num2)\n",
        "print(\"multiplication: \",num1*num2)\n",
        "print(\"division: \",num1/num2)\n"
      ],
      "metadata": {
        "colab": {
          "base_uri": "https://localhost:8080/"
        },
        "id": "Um4uKSRjb2Nx",
        "outputId": "eeef05de-aa0e-4651-8fc8-baf1a9bdce06"
      },
      "execution_count": null,
      "outputs": [
        {
          "output_type": "stream",
          "name": "stdout",
          "text": [
            "results:-\n",
            "addition:  11\n",
            "subtraction:  5\n",
            "multiplication:  24\n",
            "division:  2.6666666666666665\n"
          ]
        }
      ]
    },
    {
      "cell_type": "code",
      "source": [
        "# 8.  Write a program to demonstrate the use of logical operators.\n",
        "\n",
        "a, b, c = True, False, True\n",
        "\n",
        "# AND: Both conditions must be True\n",
        "if a and c:\n",
        "    print(\"Both a and c are True (AND condition).\")\n",
        "\n",
        "# OR: At least one condition must be True\n",
        "if b or c:\n",
        "    print(\"Either b or c is True (OR condition).\")\n",
        "\n",
        "# NOT: Reverses the condition\n",
        "if not b:\n",
        "    print(\"b is False (NOT condition).\")"
      ],
      "metadata": {
        "id": "3cKQix9VmwW5",
        "colab": {
          "base_uri": "https://localhost:8080/"
        },
        "outputId": "0be6036b-9d36-44ed-c890-b5d3513c2dae"
      },
      "execution_count": 2,
      "outputs": [
        {
          "output_type": "stream",
          "name": "stdout",
          "text": [
            "Both a and c are True (AND condition).\n",
            "Either b or c is True (OR condition).\n",
            "b is False (NOT condition).\n"
          ]
        }
      ]
    },
    {
      "cell_type": "code",
      "source": [
        "#9. Write a Python program to convert user input from string to integer, float, and boolean types.\n",
        "\n",
        "#converting string to integer.\n",
        "\n",
        "a = \"83\"\n",
        "num = int(a)\n",
        "print(num)\n",
        "type(a)\n",
        "\n"
      ],
      "metadata": {
        "colab": {
          "base_uri": "https://localhost:8080/"
        },
        "id": "jtsj6sKSpMxK",
        "outputId": "b2ff11a6-a533-4144-df6c-2c9d3eff791b"
      },
      "execution_count": 9,
      "outputs": [
        {
          "output_type": "stream",
          "name": "stdout",
          "text": [
            "83\n"
          ]
        },
        {
          "output_type": "execute_result",
          "data": {
            "text/plain": [
              "str"
            ]
          },
          "metadata": {},
          "execution_count": 9
        }
      ]
    },
    {
      "cell_type": "code",
      "source": [
        "#converting string to float.\n",
        "\n",
        "x = \"3\"\n",
        "d = float(3)\n",
        "print(d)\n",
        "type(d)"
      ],
      "metadata": {
        "colab": {
          "base_uri": "https://localhost:8080/"
        },
        "id": "EOU5oZburXYw",
        "outputId": "ac52e0ae-6c69-46be-b464-7050c406de03"
      },
      "execution_count": 15,
      "outputs": [
        {
          "output_type": "stream",
          "name": "stdout",
          "text": [
            "3.0\n"
          ]
        },
        {
          "output_type": "execute_result",
          "data": {
            "text/plain": [
              "float"
            ]
          },
          "metadata": {},
          "execution_count": 15
        }
      ]
    },
    {
      "cell_type": "code",
      "source": [
        "#converting string to bool.\n",
        "\n",
        "x = \"true\"\n",
        "y = bool(x)\n",
        "print(y)\n",
        "type(y)\n"
      ],
      "metadata": {
        "colab": {
          "base_uri": "https://localhost:8080/"
        },
        "id": "HNDxKvtlqjdM",
        "outputId": "39544933-5a4f-4c95-8463-cfb976155f2e"
      },
      "execution_count": 16,
      "outputs": [
        {
          "output_type": "stream",
          "name": "stdout",
          "text": [
            "True\n"
          ]
        },
        {
          "output_type": "execute_result",
          "data": {
            "text/plain": [
              "bool"
            ]
          },
          "metadata": {},
          "execution_count": 16
        }
      ]
    },
    {
      "cell_type": "code",
      "source": [
        "#10. Write code to demonstrate type casting with list elements.\n",
        "\n",
        "x = \"hello\"\n",
        "y = list(x)\n",
        "print(y)\n",
        "type(y)\n"
      ],
      "metadata": {
        "colab": {
          "base_uri": "https://localhost:8080/"
        },
        "id": "fKHO7Hq8u1QZ",
        "outputId": "95c59703-1b49-47cf-a4a5-8c8aa8ce4afd"
      },
      "execution_count": 25,
      "outputs": [
        {
          "output_type": "stream",
          "name": "stdout",
          "text": [
            "['h', 'e', 'l', 'l', 'o']\n"
          ]
        },
        {
          "output_type": "execute_result",
          "data": {
            "text/plain": [
              "list"
            ]
          },
          "metadata": {},
          "execution_count": 25
        }
      ]
    },
    {
      "cell_type": "code",
      "source": [
        "#11. Write a program that checks if a number is positive, negative, or zero.\n",
        "\n",
        "num = float(input(\"Enter a number: \"))\n",
        "if num > 0:\n",
        "   print(\"Positive number\")\n",
        "elif num == 0:\n",
        "   print(\"Zero\")\n",
        "else:\n",
        "   print(\"Negative number\")"
      ],
      "metadata": {
        "colab": {
          "base_uri": "https://localhost:8080/"
        },
        "id": "zaooM6Fczd4B",
        "outputId": "534f70bb-a678-4790-c279-c95da56477e6"
      },
      "execution_count": 8,
      "outputs": [
        {
          "output_type": "stream",
          "name": "stdout",
          "text": [
            "Enter a number: 8\n",
            "Positive number\n"
          ]
        }
      ]
    },
    {
      "cell_type": "code",
      "source": [
        "#12.  Write a for loop to print numbers from 1 to 10.\n",
        "\n",
        "for i in range(1, 11):\n",
        "    print(i)"
      ],
      "metadata": {
        "colab": {
          "base_uri": "https://localhost:8080/"
        },
        "id": "ZWh9Q1p_2NKh",
        "outputId": "cb2267f0-6c39-4bc2-dd25-af6dfe8788e5"
      },
      "execution_count": 14,
      "outputs": [
        {
          "output_type": "stream",
          "name": "stdout",
          "text": [
            "1\n",
            "2\n",
            "3\n",
            "4\n",
            "5\n",
            "6\n",
            "7\n",
            "8\n",
            "9\n",
            "10\n"
          ]
        }
      ]
    },
    {
      "cell_type": "code",
      "source": [
        "#13.  Write a Python program to find the sum of all even numbers between 1 and 50.\n",
        "\n",
        "num = int(input('Enter a number: '))\n",
        "sum = 0\n",
        "i = 0\n",
        "while i <= num:\n",
        "    if i % 2 == 0:\n",
        "        print(i)\n",
        "        sum+=i\n",
        "    i+=1\n",
        "print(f\"Sum of all the even numbers is {sum}\")"
      ],
      "metadata": {
        "colab": {
          "base_uri": "https://localhost:8080/"
        },
        "id": "J9kLJrhgWj1A",
        "outputId": "8c34af02-2337-4b3c-fa96-f7c1bd9f8b91"
      },
      "execution_count": 16,
      "outputs": [
        {
          "output_type": "stream",
          "name": "stdout",
          "text": [
            "Enter a number: 50\n",
            "0\n",
            "2\n",
            "4\n",
            "6\n",
            "8\n",
            "10\n",
            "12\n",
            "14\n",
            "16\n",
            "18\n",
            "20\n",
            "22\n",
            "24\n",
            "26\n",
            "28\n",
            "30\n",
            "32\n",
            "34\n",
            "36\n",
            "38\n",
            "40\n",
            "42\n",
            "44\n",
            "46\n",
            "48\n",
            "50\n",
            "Sum of all the even numbers is 650\n"
          ]
        }
      ]
    },
    {
      "cell_type": "code",
      "source": [
        "#14. Write a program to reverse a string using a while loop.\n",
        "\n",
        "original = input(\"Enter a string: \")\n",
        "\n",
        "\n",
        "reversed_str = \"\"\n",
        "index = len(original) - 1\n",
        "\n",
        "while index >= 0:\n",
        "    reversed_str += original[index]\n",
        "    index -= 1\n",
        "\n",
        "print(\"Reversed string:\", reversed_str)\n"
      ],
      "metadata": {
        "colab": {
          "base_uri": "https://localhost:8080/"
        },
        "id": "7OqhA9-zYre2",
        "outputId": "7f3144e0-c6e9-486b-9c99-33425ce08e7b"
      },
      "execution_count": 22,
      "outputs": [
        {
          "output_type": "stream",
          "name": "stdout",
          "text": [
            "Enter a string: hello world\n",
            "Reversed string: dlrow olleh\n"
          ]
        }
      ]
    },
    {
      "cell_type": "code",
      "source": [
        "#15.  Write a Python program to calculate the factorial of a number provided by the user using a while loop.\n",
        "\n",
        "f = factorial(5)\n",
        "print(f)\n",
        "\n",
        "def factorial(n):\n",
        "    num = 1\n",
        "    while n >= 1:\n",
        "        num = num * n\n",
        "        n = n - 1\n",
        "    return num"
      ],
      "metadata": {
        "colab": {
          "base_uri": "https://localhost:8080/"
        },
        "id": "As6x5Vsfc_EK",
        "outputId": "2b1d17b5-176e-4cb6-ff8d-20b04b07bd48"
      },
      "execution_count": 24,
      "outputs": [
        {
          "output_type": "stream",
          "name": "stdout",
          "text": [
            "120\n"
          ]
        }
      ]
    }
  ]
}